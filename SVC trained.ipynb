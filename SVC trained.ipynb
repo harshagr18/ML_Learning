{
 "cells": [
  {
   "cell_type": "code",
   "execution_count": 1,
   "metadata": {},
   "outputs": [],
   "source": [
    "from PIL import Image\n",
    "import numpy as np\n",
    "import pandas as pd\n",
    "from sklearn.svm import SVC\n",
    "import cv2\n",
    "import glob\n",
    "import math\n",
    "import os\n",
    "import numpy as np\n",
    "from sklearn import svm\n",
    "from sklearn.metrics import accuracy_score\n",
    "from matplotlib import pyplot as plt"
   ]
  },
  {
   "cell_type": "code",
   "execution_count": 3,
   "metadata": {},
   "outputs": [],
   "source": [
    "def shi_tomasi_corner_detection(image,corners=50,Quality_Level=0.01,Euclidean_Distance=10):\n",
    "    gray = cv2.cvtColor(image, cv2.COLOR_BGR2GRAY)\n",
    "    corners = cv2.goodFeaturesToTrack(gray,corners,Quality_Level,Euclidean_Distance)\n",
    "    corners = np.int0(corners)\n",
    "    clr=(0,0,255)\n",
    "    for i in corners:\n",
    "        x,y = i.ravel()\n",
    "        cv2.circle(image,(x,y),3,clr,-1)\n",
    "    return image"
   ]
  },
  {
   "cell_type": "code",
   "execution_count": 4,
   "metadata": {},
   "outputs": [],
   "source": [
    "# Append Pothole images\n",
    "number = 1\n",
    "table = []\n",
    "pot = 343\n",
    "\n",
    "for i in range(pot):\n",
    "    var = \"C:/Users/subhashis sengupta/Desktop/pothole images/trial/pothole/\" + str(number) + \".jpg\"\n",
    "    im = Image.open(var)\n",
    "    im = im.resize((300, 300))\n",
    "    data = np.array(im)\n",
    "    flattened = data.flatten()\n",
    "    table.append(flattened)\n",
    "    number = number + 1"
   ]
  },
  {
   "cell_type": "code",
   "execution_count": 5,
   "metadata": {
    "scrolled": true
   },
   "outputs": [],
   "source": [
    "# Append Non Pothole images\n",
    "number = 1\n",
    "npot = 355\n",
    "\n",
    "for i in range(npot):\n",
    "    var = \"C:/Users/subhashis sengupta/Desktop/pothole images/trial/plain/\" + str(number) + \".jpg\"\n",
    "    im = Image.open(var)\n",
    "    im = im.resize((300, 300))\n",
    "    data = np.array(im)\n",
    "    flattened = data.flatten()\n",
    "    table.append(flattened)\n",
    "    number = number + 1"
   ]
  },
  {
   "cell_type": "code",
   "execution_count": 6,
   "metadata": {},
   "outputs": [],
   "source": [
    "y = []\n",
    "for i in range(pot):\n",
    "    y.append(1)\n",
    "for i in range(npot):\n",
    "    y.append(0)"
   ]
  },
  {
   "cell_type": "code",
   "execution_count": 7,
   "metadata": {},
   "outputs": [
    {
     "data": {
      "text/plain": [
       "SVC(C=1.0, break_ties=False, cache_size=200, class_weight=None, coef0=0.0,\n",
       "    decision_function_shape='ovr', degree=3, gamma='scale', kernel='rbf',\n",
       "    max_iter=-1, probability=True, random_state=None, shrinking=True, tol=0.001,\n",
       "    verbose=False)"
      ]
     },
     "execution_count": 7,
     "metadata": {},
     "output_type": "execute_result"
    }
   ],
   "source": [
    "svc=SVC(probability=True)\n",
    "svc.fit(table,y)"
   ]
  },
  {
   "cell_type": "code",
   "execution_count": 8,
   "metadata": {},
   "outputs": [
    {
     "name": "stdout",
     "output_type": "stream",
     "text": [
      "[1 1 1 1 1 1 0 0]\n"
     ]
    }
   ],
   "source": [
    "number = 1\n",
    "test = []\n",
    "pot = 8 \n",
    "\n",
    "for i in range(pot):\n",
    "    var = \"C:/Users/subhashis sengupta/Desktop/pothole images/My Dataset/test/Pothole/\" + str(number) + \".jpg\"\n",
    "    im = Image.open(var)\n",
    "    im = im.resize((300, 300))\n",
    "    data = np.array(im)\n",
    "    flattened = data.flatten()\n",
    "    test.append(flattened)\n",
    "    number = number + 1\n",
    "\n",
    "\n",
    "print(svc.predict(test))"
   ]
  },
  {
   "cell_type": "code",
   "execution_count": 9,
   "metadata": {},
   "outputs": [
    {
     "name": "stdout",
     "output_type": "stream",
     "text": [
      "[1 1 1 1 0 0 0 0]\n"
     ]
    }
   ],
   "source": [
    "number = 1\n",
    "test = []\n",
    "npot = 8 \n",
    "\n",
    "for i in range(npot):\n",
    "    var = \"C:/Users/subhashis sengupta/Desktop/pothole images/My Dataset/test/Plain/\" + str(number) + \".jpg\"\n",
    "    im = Image.open(var)\n",
    "    im = im.resize((300, 300))\n",
    "    data = np.array(im)\n",
    "    flattened = data.flatten()\n",
    "    test.append(flattened)\n",
    "    number = number + 1\n",
    "\n",
    "\n",
    "print(svc.predict(test))"
   ]
  },
  {
   "cell_type": "code",
   "execution_count": 10,
   "metadata": {},
   "outputs": [],
   "source": [
    "#input of pothole images with corner detection\n",
    "number = 1\n",
    "train = []\n",
    "pot = 343\n",
    "\n",
    "for i in range(pot):\n",
    "    var = \"C:/Users/subhashis sengupta/Desktop/pothole images/trial/pothole/\" + str(number) + \".jpg\"\n",
    "    pic = cv2.imread(var)\n",
    "    corner = image_to_feature_vector(pic)\n",
    "    corner1 = shi_tomasi_corner_detection(corner)\n",
    "    data = np.array(corner1)\n",
    "    flattened = data.flatten()\n",
    "    train.append(flattened)\n",
    "    number = number + 1    "
   ]
  },
  {
   "cell_type": "code",
   "execution_count": 11,
   "metadata": {},
   "outputs": [],
   "source": [
    "#input of plain images with corner detection\n",
    "number = 1\n",
    "npot = 355\n",
    "\n",
    "for i in range(npot):\n",
    "    var = \"C:/Users/subhashis sengupta/Desktop/pothole images/trial/plain/\" + str(number) + \".jpg\"\n",
    "    pic = cv2.imread(var)\n",
    "    corner = image_to_feature_vector(pic)\n",
    "    corner1 = shi_tomasi_corner_detection(corner)\n",
    "    data = np.array(corner1)\n",
    "    flattened = data.flatten()\n",
    "    train.append(flattened)\n",
    "    number = number + 1"
   ]
  },
  {
   "cell_type": "code",
   "execution_count": 12,
   "metadata": {},
   "outputs": [
    {
     "data": {
      "text/plain": [
       "SVC(C=1.0, break_ties=False, cache_size=200, class_weight=None, coef0=0.0,\n",
       "    decision_function_shape='ovr', degree=3, gamma='scale', kernel='rbf',\n",
       "    max_iter=-1, probability=True, random_state=None, shrinking=True, tol=0.001,\n",
       "    verbose=False)"
      ]
     },
     "execution_count": 12,
     "metadata": {},
     "output_type": "execute_result"
    }
   ],
   "source": [
    "meh=SVC(probability=True)\n",
    "meh.fit(train,y)"
   ]
  },
  {
   "cell_type": "code",
   "execution_count": 13,
   "metadata": {},
   "outputs": [
    {
     "name": "stdout",
     "output_type": "stream",
     "text": [
      "[1 1 1 1 1 1 0 0]\n"
     ]
    }
   ],
   "source": [
    "#output with corner\n",
    "number = 1\n",
    "test = []\n",
    "pot = 8 \n",
    "\n",
    "for i in range(pot):\n",
    "    var = \"C:/Users/subhashis sengupta/Desktop/pothole images/My Dataset/test/Pothole/\" + str(number) + \".jpg\"\n",
    "    im = Image.open(var)\n",
    "    im = im.resize((300, 300))\n",
    "    data = np.array(im)\n",
    "    flattened = data.flatten()\n",
    "    test.append(flattened)\n",
    "    number = number + 1\n",
    "\n",
    "\n",
    "print(meh.predict(test))"
   ]
  }
 ],
 "metadata": {
  "kernelspec": {
   "display_name": "Python 3",
   "language": "python",
   "name": "python3"
  },
  "language_info": {
   "codemirror_mode": {
    "name": "ipython",
    "version": 3
   },
   "file_extension": ".py",
   "mimetype": "text/x-python",
   "name": "python",
   "nbconvert_exporter": "python",
   "pygments_lexer": "ipython3",
   "version": "3.7.6"
  }
 },
 "nbformat": 4,
 "nbformat_minor": 2
}
